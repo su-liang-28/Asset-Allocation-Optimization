{
 "cells": [
  {
   "cell_type": "code",
   "execution_count": 47,
   "metadata": {},
   "outputs": [],
   "source": [
    "import numpy as np\n",
    "import pandas as pd\n",
    "import scipy.io\n",
    "import matplotlib.pyplot as plt\n",
    "from cvxopt import matrix, solvers\n",
    "solvers.options['show_progress'] = False\n",
    "from scipy.stats import chi2"
   ]
  },
  {
   "cell_type": "markdown",
   "metadata": {},
   "source": [
    "## Data Import"
   ]
  },
  {
   "cell_type": "code",
   "execution_count": 48,
   "metadata": {},
   "outputs": [],
   "source": [
    "mat = scipy.io.loadmat('Data/hw6data.mat')"
   ]
  },
  {
   "cell_type": "code",
   "execution_count": 49,
   "metadata": {},
   "outputs": [],
   "source": [
    "cov = mat['Q']\n",
    "mu = mat['mu'].reshape(-1)\n",
    "rtn_series = mat['R']"
   ]
  },
  {
   "cell_type": "code",
   "execution_count": 50,
   "metadata": {},
   "outputs": [],
   "source": [
    "sample_mean = np.mean(rtn_series,axis = 1)\n",
    "sample_cov = np.cov(rtn_series)"
   ]
  },
  {
   "cell_type": "code",
   "execution_count": 51,
   "metadata": {},
   "outputs": [],
   "source": [
    "sigma = np.diag(np.diag(cov/len(rtn_series[0])))"
   ]
  },
  {
   "cell_type": "code",
   "execution_count": 67,
   "metadata": {},
   "outputs": [],
   "source": [
    "#Parameter Setting\n",
    "k_list = np.arange(0.05, 1.05, 0.05)\n",
    "iter_num = 200\n",
    "t_list = np.arange(10, 110, 10)"
   ]
  },
  {
   "cell_type": "markdown",
   "metadata": {},
   "source": [
    "## Sensitivity Analysis"
   ]
  },
  {
   "cell_type": "markdown",
   "metadata": {},
   "source": [
    "### Traditional Markovitz Optimization"
   ]
  },
  {
   "cell_type": "code",
   "execution_count": 53,
   "metadata": {},
   "outputs": [],
   "source": [
    "def Markovitz_basic_portfolio(mean, cov, t):\n",
    "    a = 2/t\n",
    "    N = len(mean)\n",
    "    \n",
    "    P = matrix(a*cov)\n",
    "    q = matrix((-1)*mean)\n",
    "    G = matrix(np.diag([-1.0 for i in range(N)]), tc='d')\n",
    "    h = matrix(np.array([0.0 for i in range(N)]), tc='d')\n",
    "    A = matrix(np.array([[1.0 for i in range(N)]]), tc='d')\n",
    "    b = matrix(np.array([1.0]), tc='d')\n",
    "    sol = solvers.qp(P,q,G,h,A,b)\n",
    "    w = sol['x']\n",
    "    CE_0 = -sol['primal objective']\n",
    "    return w, CE_0"
   ]
  },
  {
   "cell_type": "code",
   "execution_count": 54,
   "metadata": {},
   "outputs": [],
   "source": [
    "def Markovitz_sensitivity_analysis(mean, cov, t, k, objective):\n",
    "    N = len(mean)\n",
    "    a = 2/t\n",
    "    \n",
    "    if objective == 'mean':\n",
    "        z = np.random.normal(size = N)*k + 1\n",
    "        mean_new = np.multiply(mean, z)\n",
    "        P = matrix(a*cov)\n",
    "        q = matrix((-1)*mean_new)\n",
    "    elif objective == 'variance':\n",
    "        flag = 0\n",
    "        while flag == 0:\n",
    "            z = np.random.normal(size = N)*k + 1\n",
    "            var = np.diag(cov)\n",
    "            var_new = np.multiply(var, z)\n",
    "            cov_new = cov + np.diag(var_new - var)\n",
    "            flag = np.all(np.linalg.eigvals(cov_new) >= 0)\n",
    "        P = matrix(a*cov_new)\n",
    "        q = matrix((-1)*mean)\n",
    "    elif objective == 'covariance':\n",
    "        flag = 0\n",
    "        while flag == 0:\n",
    "            z = np.random.normal(size = N**2)*k + 1\n",
    "            var = np.diag(cov)\n",
    "            upper = np.triu(cov)\n",
    "            cov_new = np.multiply(upper.reshape(-1), z).reshape((N,N))\n",
    "            cov_new += cov_new.T\n",
    "            cov_new = cov_new - np.diag(np.diag(cov_new)) + np.diag(var)\n",
    "            flag = np.all(np.linalg.eigvals(cov_new) >= 0)\n",
    "        P = matrix(a*cov_new)\n",
    "        q = matrix((-1)*mean)\n",
    "    \n",
    "    G = matrix(np.diag([-1.0 for i in range(N)]), tc='d')\n",
    "    h = matrix(np.array([0.0 for i in range(N)]), tc='d')\n",
    "    A = matrix(np.array([[1.0 for i in range(N)]]), tc='d')\n",
    "    b = matrix(np.array([1.0]), tc='d')\n",
    "\n",
    "    sol = solvers.qp(P,q,G,h,A,b)\n",
    "    w_new = sol['x']\n",
    "    CE_x = np.dot(mean,w_new)[0] - 0.5*a*np.dot(np.dot(w_new.T, cov), w_new)[0][0]\n",
    "    return CE_x"
   ]
  },
  {
   "cell_type": "code",
   "execution_count": 45,
   "metadata": {},
   "outputs": [],
   "source": [
    "w0, CE_0 = Markovitz_basic_portfolio(sample_mean, sample_cov, t)"
   ]
  },
  {
   "cell_type": "code",
   "execution_count": 46,
   "metadata": {},
   "outputs": [
    {
     "name": "stdout",
     "output_type": "stream",
     "text": [
      "The effects of errors in mean: \n",
      "When k =  0.05 the average cash equivalent loss is:  0.0007343719382011349\n",
      "When k =  0.1 the average cash equivalent loss is:  0.015146030521431812\n",
      "When k =  0.15000000000000002 the average cash equivalent loss is:  0.0435086285609816\n",
      "When k =  0.2 the average cash equivalent loss is:  0.06951792920332017\n",
      "The effects of errors in variance: \n",
      "When k =  0.05 the average cash equivalent loss is:  2.0844720038937225e-09\n",
      "When k =  0.1 the average cash equivalent loss is:  5.769371621555664e-09\n",
      "When k =  0.15000000000000002 the average cash equivalent loss is:  1.0272693648320323e-08\n",
      "When k =  0.2 the average cash equivalent loss is:  1.471702436213936e-08\n",
      "The effects of errors in covariance: \n",
      "When k =  0.05 the average cash equivalent loss is:  2.832152582824913e-09\n",
      "When k =  0.1 the average cash equivalent loss is:  5.530207074870101e-09\n",
      "When k =  0.15000000000000002 the average cash equivalent loss is:  8.321230741126229e-09\n",
      "When k =  0.2 the average cash equivalent loss is:  1.2309945258322703e-08\n"
     ]
    }
   ],
   "source": [
    "obj_list = ['mean', 'variance', 'covariance']\n",
    "for obj in obj_list:\n",
    "    print('The effects of errors in '+obj+': ')\n",
    "    for k in k_list:\n",
    "        CEL = 0\n",
    "        for i in range(iter_num):\n",
    "            CE_x = Markovitz_sensitivity_analysis(sample_mean, sample_cov, t, k, obj)\n",
    "            CEL += (1 - CE_x/CE_0)\n",
    "        CEL /= iter_num\n",
    "        print('When k = ',k, 'the average cash equivalent loss is: ', CEL)"
   ]
  },
  {
   "cell_type": "markdown",
   "metadata": {},
   "source": [
    "### Robust Optimization "
   ]
  },
  {
   "cell_type": "code",
   "execution_count": 40,
   "metadata": {},
   "outputs": [],
   "source": [
    "def Robust_portfolio(mean, cov, sigma, t, eta):\n",
    "    N = len(mean)\n",
    "    a = 2/t\n",
    "    kappa = np.sqrt(chi2.ppf(eta, df = N))\n",
    "    L = np.linalg.cholesky(sigma)\n",
    "    \n",
    "    P_0 = np.hstack([a*cov, np.array([[0.0] for i in range(N)])])\n",
    "    P_0 = np.vstack([P_0, np.array([0.0 for i in range(N+1)])])\n",
    "    P = matrix(P_0)\n",
    "    \n",
    "    q = matrix(np.append((-1)*mean, [kappa]))\n",
    "    \n",
    "    \n",
    "    A = matrix(np.array([[1.0 for i in range(N)] + [0.0]]), tc='d')\n",
    "    b = matrix(np.array([1.0]), tc='d')\n",
    "    \n",
    "    I = matrix(0.0, (N+1,N+1))\n",
    "    I[::N+2] = 1.0\n",
    "    G_1 = np.hstack([(-1)*L.T, np.array([[0.0] for i in range(N)])])\n",
    "    G_1 = np.vstack([np.array([0.0 for i in range(N)] + [-1.0]), G_1])\n",
    "    G = matrix([-I, matrix(G_1)])\n",
    "    h = matrix((N+1)*[0.0] + (N+1)*[0.0])\n",
    "    \n",
    "    dims = {'l': N+1, 'q': [N+1], 's': []}\n",
    "    \n",
    "    sol = solvers.coneqp(P, q, G, h, dims, A, b)\n",
    "    w = sol['x'][:-1]\n",
    "    CE_0 = np.dot(mean,w)[0] - 0.5*a*np.dot(np.dot(w.T, cov), w)[0][0]\n",
    "    \n",
    "    return w, CE_0"
   ]
  },
  {
   "cell_type": "code",
   "execution_count": 42,
   "metadata": {},
   "outputs": [],
   "source": [
    "def Robust_sensitivity_analysis(mean, cov, sigma, t, k, eta, objective):\n",
    "    N = len(mean)\n",
    "    a = 2/t\n",
    "    kappa = np.sqrt(chi2.ppf(eta, df = N))\n",
    "    L = np.linalg.cholesky(sigma)\n",
    "    \n",
    "    if objective == 'mean':\n",
    "        z = np.random.normal(size = N)*k + 1\n",
    "        mean_new = np.multiply(mean, z)\n",
    "        P_0 = np.hstack([a*cov, np.array([[0.0] for i in range(N)])])\n",
    "        P_0 = np.vstack([P_0, np.array([0.0 for i in range(N+1)])])\n",
    "        P = matrix(P_0)\n",
    "    \n",
    "        q = matrix(np.append((-1)*mean_new, [kappa]))\n",
    "    \n",
    "    \n",
    "    A = matrix(np.array([[1.0 for i in range(N)] + [0.0]]), tc='d')\n",
    "    b = matrix(np.array([1.0]), tc='d')\n",
    "    \n",
    "    I = matrix(0.0, (N+1,N+1))\n",
    "    I[::N+2] = 1.0\n",
    "    G_1 = np.hstack([(-1)*L, np.array([[0.0] for i in range(N)])])\n",
    "    G_1 = np.vstack([np.array([0.0 for i in range(N)] + [-1.0]), G_1])\n",
    "    G = matrix([-I, matrix(G_1)])\n",
    "    h = matrix((N+1)*[0.0] + (N+1)*[0.0])\n",
    "    \n",
    "    dims = {'l': N+1, 'q': [N+1], 's': []}\n",
    "    \n",
    "    sol = solvers.coneqp(P, q, G, h, dims, A, b)\n",
    "    w = sol['x'][:-1]\n",
    "    CE_x = np.dot(mean,w)[0] - 0.5*a*np.dot(np.dot(w.T, cov), w)[0][0]\n",
    "    \n",
    "    return w, CE_x"
   ]
  },
  {
   "cell_type": "code",
   "execution_count": 41,
   "metadata": {},
   "outputs": [],
   "source": [
    "w_r, CE_r_0 = Robust_portfolio(sample_mean, cov, sigma, t, eta = 0.95)"
   ]
  },
  {
   "cell_type": "code",
   "execution_count": 43,
   "metadata": {},
   "outputs": [
    {
     "name": "stdout",
     "output_type": "stream",
     "text": [
      "The effects of errors in mean: \n",
      "When k =  0.05 the average cash equivalent loss is:  0.003316281677130194\n",
      "When k =  0.1 the average cash equivalent loss is:  0.006676292360710063\n",
      "When k =  0.15000000000000002 the average cash equivalent loss is:  0.016372399018444103\n",
      "When k =  0.2 the average cash equivalent loss is:  0.01165436180575672\n"
     ]
    }
   ],
   "source": [
    "print('The effects of errors in mean: ')\n",
    "for k in k_list:\n",
    "    CEL_r = 0\n",
    "    for i in range(iter_num):\n",
    "        w_r_x, CE_r_x = Robust_sensitivity_analysis(sample_mean, cov, sigma, t, k, eta = 0.95, objective = 'mean')\n",
    "        CEL_r += (1 - CE_r_x/CE_r_0)\n",
    "    CEL_r /= iter_num\n",
    "    print('When k = ',k, 'the average cash equivalent loss is: ', CEL_r)"
   ]
  },
  {
   "cell_type": "markdown",
   "metadata": {},
   "source": [
    "### Questions"
   ]
  },
  {
   "cell_type": "markdown",
   "metadata": {},
   "source": [
    "1. Not sure whether the sigma should change when covariance matrix changes  \n",
    "2. Should use sample_cov or true_cov to conduct traditional optimizaiton for result comparision"
   ]
  },
  {
   "cell_type": "code",
   "execution_count": null,
   "metadata": {},
   "outputs": [],
   "source": []
  }
 ],
 "metadata": {
  "kernelspec": {
   "display_name": "Python 3",
   "language": "python",
   "name": "python3"
  },
  "language_info": {
   "codemirror_mode": {
    "name": "ipython",
    "version": 3
   },
   "file_extension": ".py",
   "mimetype": "text/x-python",
   "name": "python",
   "nbconvert_exporter": "python",
   "pygments_lexer": "ipython3",
   "version": "3.7.3"
  }
 },
 "nbformat": 4,
 "nbformat_minor": 2
}
