{
 "cells": [
  {
   "cell_type": "code",
   "execution_count": 1,
   "metadata": {},
   "outputs": [],
   "source": [
    "import numpy as np\n",
    "import pandas as pd\n",
    "from gurobipy import *"
   ]
  },
  {
   "cell_type": "code",
   "execution_count": 2,
   "metadata": {},
   "outputs": [],
   "source": [
    "df = pd.read_csv('Data/Data_DJIA.csv', index_col = 1)\n",
    "df['ADJ_PRC'] =  df['PRC']/df['CFACPR']\n",
    "price = df.pivot(columns = 'PERMNO', values = 'ADJ_PRC')"
   ]
  },
  {
   "cell_type": "code",
   "execution_count": 3,
   "metadata": {},
   "outputs": [],
   "source": [
    "code_dict = {24643: 'Alcoa',\n",
    "             59176: 'Amex',\n",
    "             19561: 'Boeing',\n",
    "             14541: 'Chev',\n",
    "             11308: 'Coke',\n",
    "             11703: 'Du Pont',\n",
    "             22592: 'MMM',\n",
    "             18163: 'P&G',\n",
    "             14322: 'Sears',\n",
    "             17830: 'U Tech'}"
   ]
  },
  {
   "cell_type": "code",
   "execution_count": 4,
   "metadata": {},
   "outputs": [],
   "source": [
    "price.rename(columns = code_dict, inplace = True)\n",
    "price = price[code_dict.values()]"
   ]
  },
  {
   "cell_type": "code",
   "execution_count": 5,
   "metadata": {},
   "outputs": [],
   "source": [
    "rtn = price.pct_change()[2:]"
   ]
  },
  {
   "cell_type": "code",
   "execution_count": 6,
   "metadata": {},
   "outputs": [],
   "source": [
    "mean = rtn.mean().values\n",
    "std = rtn.std().values\n",
    "corr = rtn.corr().values\n",
    "cov = rtn.cov().values"
   ]
  },
  {
   "cell_type": "code",
   "execution_count": 7,
   "metadata": {},
   "outputs": [
    {
     "data": {
      "text/plain": [
       "PERMNO\n",
       "Alcoa      0.010971\n",
       "Amex       0.016781\n",
       "Boeing     0.013849\n",
       "Chev       0.010020\n",
       "Coke       0.017898\n",
       "Du Pont    0.011673\n",
       "MMM        0.011580\n",
       "P&G        0.013074\n",
       "Sears      0.009936\n",
       "U Tech     0.010003\n",
       "dtype: float64"
      ]
     },
     "execution_count": 7,
     "metadata": {},
     "output_type": "execute_result"
    }
   ],
   "source": [
    "rtn.mean()"
   ]
  },
  {
   "cell_type": "code",
   "execution_count": 8,
   "metadata": {},
   "outputs": [
    {
     "data": {
      "text/plain": [
       "PERMNO\n",
       "Alcoa      0.086669\n",
       "Amex       0.084585\n",
       "Boeing     0.097071\n",
       "Chev       0.084926\n",
       "Coke       0.060055\n",
       "Du Pont    0.068438\n",
       "MMM        0.057920\n",
       "P&G        0.056477\n",
       "Sears      0.080176\n",
       "U Tech     0.081194\n",
       "dtype: float64"
      ]
     },
     "execution_count": 8,
     "metadata": {},
     "output_type": "execute_result"
    }
   ],
   "source": [
    "rtn.std()"
   ]
  },
  {
   "cell_type": "code",
   "execution_count": 17,
   "metadata": {},
   "outputs": [],
   "source": [
    "#Build basic portfolio\n",
    "t = 50\n",
    "a = 2/t\n",
    "N = len(mean)\n",
    "stocks = list(code_dict.values())\n",
    "\n",
    "m = Model(\"Basic Portfolio\")\n",
    "w = pd.Series(m.addVars(stocks, lb = 0, ub = GRB.INFINITY), index=stocks)\n",
    "m.update()\n",
    "\n",
    "#Set Objective Function\n",
    "obj = mean.dot(w) - 0.5*a*cov.dot(w).dot(w)\n",
    "m.setObjective(obj,GRB.MAXIMIZE)\n",
    "m.addConstr(w.sum() == 1, 'budget')\n",
    "m.update()\n",
    "\n",
    "m.setParam('OutputFlag', 0)\n",
    "m.optimize()\n",
    "\n",
    "CE_0 = m.ObjVal"
   ]
  },
  {
   "cell_type": "code",
   "execution_count": 18,
   "metadata": {},
   "outputs": [
    {
     "data": {
      "text/plain": [
       "[2.9971220721860034e-09,\n",
       " 3.6158324464088953e-07,\n",
       " 8.661114276293456e-09,\n",
       " 5.557975448248265e-09,\n",
       " 0.9999995866182253,\n",
       " 7.40093388989199e-09,\n",
       " 7.253477221330161e-09,\n",
       " 8.49802493416938e-09,\n",
       " 5.6529362008952085e-09,\n",
       " 5.776946270697359e-09]"
      ]
     },
     "execution_count": 18,
     "metadata": {},
     "output_type": "execute_result"
    }
   ],
   "source": [
    "[w[i].x for i in range(len(w))]"
   ]
  },
  {
   "cell_type": "code",
   "execution_count": 11,
   "metadata": {},
   "outputs": [],
   "source": [
    "#Parameter Setting\n",
    "k_list = np.arange(0.05, 0.20, 0.05)\n",
    "iter_num = 100"
   ]
  },
  {
   "cell_type": "code",
   "execution_count": 19,
   "metadata": {},
   "outputs": [
    {
     "name": "stdout",
     "output_type": "stream",
     "text": [
      "0.012197833536142259\n",
      "0.02361336832000739\n",
      "0.03599023388973877\n",
      "0.06384199706430724\n"
     ]
    }
   ],
   "source": [
    "#Examine the effect of errors in means\n",
    "for k in k_list:\n",
    "    CEL = 0\n",
    "    for n in range(iter_num):\n",
    "        z = np.random.normal(size = N)*k + 1\n",
    "        mean_new = np.multiply(mean, z)\n",
    "    \n",
    "        m = Model(\"Mean Sensitivity\")\n",
    "        w = pd.Series(m.addVars(stocks, lb = 0, ub = GRB.INFINITY), index=stocks)\n",
    "        m.update()\n",
    "\n",
    "        #Set Objective Function\n",
    "        obj = mean_new.dot(w) - 0.5*a*cov.dot(w).dot(w)\n",
    "        m.setObjective(obj,GRB.MAXIMIZE)\n",
    "        m.addConstr(w.sum() == 1, 'budget')\n",
    "        m.update()\n",
    "        \n",
    "        m.setParam('OutputFlag', 0)\n",
    "        m.optimize()\n",
    "        \n",
    "        w = np.array([w[i].x for i in range(len(w))])\n",
    "        CE_x = np.dot(mean,w)- 0.5*a*np.dot(np.dot(w.T, cov), w)\n",
    "        CEL += (1 - CE_x/CE_0)\n",
    "    \n",
    "    CEL /= iter_num\n",
    "    print(CEL)"
   ]
  },
  {
   "cell_type": "code",
   "execution_count": 20,
   "metadata": {},
   "outputs": [
    {
     "name": "stdout",
     "output_type": "stream",
     "text": [
      "3.02668885288071e-08\n",
      "6.538079083906467e-08\n",
      "1.2466311328451773e-07\n",
      "1.1876801311649921e-07\n"
     ]
    }
   ],
   "source": [
    "#Examine the effect of errors in variances\n",
    "for k in k_list:\n",
    "    CEL = 0\n",
    "    n = 0\n",
    "    while n < iter_num:\n",
    "        try:\n",
    "            z = np.random.normal(size = N)*k + 1\n",
    "            var = np.diag(cov)\n",
    "            var_new = np.multiply(var, z)\n",
    "            cov_new = cov + np.diag(var_new - var)\n",
    "    \n",
    "            m = Model(\"Variance Sensitivity\")\n",
    "            w = pd.Series(m.addVars(stocks, lb = 0, ub = GRB.INFINITY), index=stocks)\n",
    "            m.update()\n",
    "\n",
    "            #Set Objective Function\n",
    "            obj = mean.dot(w) - 0.5*a*cov_new.dot(w).dot(w)\n",
    "            m.setObjective(obj,GRB.MAXIMIZE)\n",
    "            m.addConstr(w.sum() == 1, 'budget')\n",
    "            m.update()\n",
    "        \n",
    "            m.setParam('OutputFlag', 0)\n",
    "            m.optimize()\n",
    "        \n",
    "            w = np.array([w[i].x for i in range(len(w))])\n",
    "            CE_x = np.dot(mean,w)- 0.5*a*np.dot(np.dot(w.T, cov), w)\n",
    "            CEL += (1 - CE_x/CE_0)\n",
    "            n += 1\n",
    "        except GurobiError:\n",
    "            continue\n",
    "    \n",
    "    CEL /= iter_num\n",
    "    print(CEL)"
   ]
  },
  {
   "cell_type": "code",
   "execution_count": 21,
   "metadata": {},
   "outputs": [
    {
     "name": "stdout",
     "output_type": "stream",
     "text": [
      "1.1286981445035593e-08\n",
      "3.591907138722483e-08\n",
      "6.941143194660882e-08\n",
      "5.912635483107387e-08\n"
     ]
    }
   ],
   "source": [
    "#Examine the effect of errors in variances\n",
    "for k in k_list:\n",
    "    CEL = 0\n",
    "    n = 0\n",
    "    while n < iter_num:\n",
    "        try:\n",
    "            z = np.random.normal(size = N**2)*k + 1\n",
    "            var = np.diag(cov)\n",
    "            upper = np.triu(cov)\n",
    "            cov_new = np.multiply(upper.reshape(-1), z).reshape((N,N))\n",
    "            cov_new += cov_new.T\n",
    "            cov_new = cov_new - np.diag(np.diag(cov_new)) + np.diag(var)\n",
    "    \n",
    "            m = Model(\"Variance Sensitivity\")\n",
    "            w = pd.Series(m.addVars(stocks, lb = 0, ub = GRB.INFINITY), index=stocks)\n",
    "            m.update()\n",
    "\n",
    "            #Set Objective Function\n",
    "            obj = mean.dot(w) - 0.5*a*cov_new.dot(w).dot(w)\n",
    "            m.setObjective(obj,GRB.MAXIMIZE)\n",
    "            m.addConstr(w.sum() == 1, 'budget')\n",
    "            m.update()\n",
    "        \n",
    "            m.setParam('OutputFlag', 0)\n",
    "            m.optimize()\n",
    "        \n",
    "            w = np.array([w[i].x for i in range(len(w))])\n",
    "            CE_x = np.dot(mean,w)- 0.5*a*np.dot(np.dot(w.T, cov), w)\n",
    "            CEL += (1 - CE_x/CE_0)\n",
    "            n += 1\n",
    "        except GurobiError:\n",
    "            continue\n",
    "            \n",
    "    CEL /= iter_num\n",
    "    print(CEL)"
   ]
  },
  {
   "cell_type": "code",
   "execution_count": null,
   "metadata": {},
   "outputs": [],
   "source": []
  }
 ],
 "metadata": {
  "kernelspec": {
   "display_name": "Python 3",
   "language": "python",
   "name": "python3"
  },
  "language_info": {
   "codemirror_mode": {
    "name": "ipython",
    "version": 3
   },
   "file_extension": ".py",
   "mimetype": "text/x-python",
   "name": "python",
   "nbconvert_exporter": "python",
   "pygments_lexer": "ipython3",
   "version": "3.7.3"
  }
 },
 "nbformat": 4,
 "nbformat_minor": 2
}
