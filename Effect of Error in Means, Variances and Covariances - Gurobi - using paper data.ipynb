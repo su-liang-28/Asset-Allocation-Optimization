{
 "cells": [
  {
   "cell_type": "code",
   "execution_count": 1,
   "metadata": {},
   "outputs": [],
   "source": [
    "import numpy as np\n",
    "import pandas as pd\n",
    "from gurobipy import *"
   ]
  },
  {
   "cell_type": "code",
   "execution_count": 5,
   "metadata": {},
   "outputs": [],
   "source": [
    "code_dict = {24643: 'Alcoa',\n",
    "             59176: 'Amex',\n",
    "             19561: 'Boeing',\n",
    "             14541: 'Chev',\n",
    "             11308: 'Coke',\n",
    "             11703: 'Du Pont',\n",
    "             22592: 'MMM',\n",
    "             18163: 'P&G',\n",
    "             14322: 'Sears',\n",
    "             17830: 'U Tech'}"
   ]
  },
  {
   "cell_type": "code",
   "execution_count": 6,
   "metadata": {},
   "outputs": [],
   "source": [
    "mean = np.array([.015617, .019477, .01907, .015801, .021643, .016010, .014892, .016248,.014075, .014537])\n",
    "std = np.array([.088308, .084585, .01004, .086215, .059886, .068767, .058162, .056385, .080047, .082125])\n",
    "corr = np.array([[ 1,  0.366, 0.3457,   0.1606,     0.2279,  0.5133,  0.5203,    0.2176,  0.3267,  0.5101], \n",
    "             [ 0.366,  1,  0.5379,    0.2165,  0.4986,   0.5823,  0.5569,    0.4760,  0.6517,  0.5853],\n",
    "             [0.3457,  0.5379,   1,     0.2218,  0.4283,  0.4051,  0.4492,   0.3867,  0.4883,  0.6569],\n",
    "             [0.1606,  0.2165,   0.2218, 1,    0.0569,  0.3609,  0.2325,    0.2289,  0.1726,  0.3814 ],\n",
    "             [0.2279,  0.4986,   0.4283, 0.0569,  1,     0.3619,  0.4811,    0.5952,  0.4378,  0.4368],\n",
    "             [0.5133,  0.5823,   0.4051, 0.3609,  0.3619,  1,     0.6167,    0.4996,  0.5811,  0.5644],\n",
    "             [0.5203,  0.5569,   0.4492, 0.2325,  0.4811,  0.6167,  1,      0.6037,  0.5671,  0.6032 ],\n",
    "             [0.2176,  0.4760,   0.3867, 0.2289,  0.5952,  0.4996,  0.6037,      1,  0.5012,  0.4772 ],\n",
    "             [0.3267,  0.6517,   0.4883, 0.1726,  0.4378,  0.5811,  0.5671,    0.5012,  1,    0.6039 ],\n",
    "             [ 0.5101, 0.5853,   0.6569, 0.3814,  0.4368,  0.5644,  0.6032,    0.4772,  0.6039,   1 ]])\n",
    "cov = np.zeros((10, 10))\n",
    "for i in range(10):\n",
    "    for j in range(10):\n",
    "        cov[i][j] = corr[i][j]*std[i]*std[j]"
   ]
  },
  {
   "cell_type": "code",
   "execution_count": 7,
   "metadata": {},
   "outputs": [
    {
     "name": "stdout",
     "output_type": "stream",
     "text": [
      "Academic license - for non-commercial use only\n"
     ]
    }
   ],
   "source": [
    "#Build basic portfolio\n",
    "t = 50\n",
    "a = 2/t\n",
    "N = len(mean)\n",
    "stocks = list(code_dict.values())\n",
    "\n",
    "m = Model(\"Basic Portfolio\")\n",
    "w = pd.Series(m.addVars(stocks, lb = 0, ub = GRB.INFINITY), index=stocks)\n",
    "m.update()\n",
    "\n",
    "#Set Objective Function\n",
    "obj = mean.dot(w) - 0.5*a*cov.dot(w).dot(w)\n",
    "m.setObjective(obj,GRB.MAXIMIZE)\n",
    "m.addConstr(w.sum() == 1, 'budget')\n",
    "m.update()\n",
    "\n",
    "m.setParam('OutputFlag', 0)\n",
    "m.optimize()\n",
    "\n",
    "CE_0 = m.ObjVal"
   ]
  },
  {
   "cell_type": "code",
   "execution_count": 8,
   "metadata": {},
   "outputs": [
    {
     "data": {
      "text/plain": [
       "[3.067978726294023e-09,\n",
       " 5.5127888501443564e-08,\n",
       " 2.9975867538289806e-08,\n",
       " 6.886942832482776e-09,\n",
       " 0.999999871194303,\n",
       " 7.778843264663669e-09,\n",
       " 6.522277785280099e-09,\n",
       " 7.490807305599044e-09,\n",
       " 5.58240296158643e-09,\n",
       " 6.372687858321544e-09]"
      ]
     },
     "execution_count": 8,
     "metadata": {},
     "output_type": "execute_result"
    }
   ],
   "source": [
    "[w[i].x for i in range(len(w))]"
   ]
  },
  {
   "cell_type": "code",
   "execution_count": 10,
   "metadata": {},
   "outputs": [],
   "source": [
    "#Parameter Setting\n",
    "k_list = np.arange(0.05, 0.20, 0.05)\n",
    "iter_num = 100"
   ]
  },
  {
   "cell_type": "code",
   "execution_count": 11,
   "metadata": {},
   "outputs": [
    {
     "name": "stdout",
     "output_type": "stream",
     "text": [
      "0.013225309661817846\n",
      "0.04262492041165247\n",
      "0.07223904719047163\n",
      "0.07989445170315967\n"
     ]
    }
   ],
   "source": [
    "#Examine the effect of errors in means\n",
    "for k in k_list:\n",
    "    CEL = 0\n",
    "    for n in range(iter_num):\n",
    "        z = np.random.normal(size = N)*k + 1\n",
    "        mean_new = np.multiply(mean, z)\n",
    "    \n",
    "        m = Model(\"Mean Sensitivity\")\n",
    "        w = pd.Series(m.addVars(stocks, lb = 0, ub = GRB.INFINITY), index=stocks)\n",
    "        m.update()\n",
    "\n",
    "        #Set Objective Function\n",
    "        obj = mean_new.dot(w) - 0.5*a*cov.dot(w).dot(w)\n",
    "        m.setObjective(obj,GRB.MAXIMIZE)\n",
    "        m.addConstr(w.sum() == 1, 'budget')\n",
    "        m.update()\n",
    "        \n",
    "        m.setParam('OutputFlag', 0)\n",
    "        m.optimize()\n",
    "        \n",
    "        w = np.array([w[i].x for i in range(len(w))])\n",
    "        CE_x = np.dot(mean,w)- 0.5*a*np.dot(np.dot(w.T, cov), w)\n",
    "        CEL += (1 - CE_x/CE_0)\n",
    "    \n",
    "    CEL /= iter_num\n",
    "    print(CEL)"
   ]
  },
  {
   "cell_type": "code",
   "execution_count": 12,
   "metadata": {},
   "outputs": [
    {
     "name": "stdout",
     "output_type": "stream",
     "text": [
      "2.554113049724194e-08\n",
      "5.549432761653428e-08\n",
      "6.453852478327527e-08\n",
      "9.893651162218298e-08\n"
     ]
    }
   ],
   "source": [
    "#Examine the effect of errors in variances\n",
    "for k in k_list:\n",
    "    CEL = 0\n",
    "    n = 0\n",
    "    while n < iter_num:\n",
    "        try:\n",
    "            z = np.random.normal(size = N)*k + 1\n",
    "            var = np.diag(cov)\n",
    "            var_new = np.multiply(var, z)\n",
    "            cov_new = cov + np.diag(var_new - var)\n",
    "    \n",
    "            m = Model(\"Variance Sensitivity\")\n",
    "            w = pd.Series(m.addVars(stocks, lb = 0, ub = GRB.INFINITY), index=stocks)\n",
    "            m.update()\n",
    "\n",
    "            #Set Objective Function\n",
    "            obj = mean.dot(w) - 0.5*a*cov_new.dot(w).dot(w)\n",
    "            m.setObjective(obj,GRB.MAXIMIZE)\n",
    "            m.addConstr(w.sum() == 1, 'budget')\n",
    "            m.update()\n",
    "        \n",
    "            m.setParam('OutputFlag', 0)\n",
    "            m.optimize()\n",
    "        \n",
    "            w = np.array([w[i].x for i in range(len(w))])\n",
    "            CE_x = np.dot(mean,w)- 0.5*a*np.dot(np.dot(w.T, cov), w)\n",
    "            CEL += (1 - CE_x/CE_0)\n",
    "            n += 1\n",
    "        except GurobiError:\n",
    "            continue\n",
    "    \n",
    "    CEL /= iter_num\n",
    "    print(CEL)"
   ]
  },
  {
   "cell_type": "code",
   "execution_count": 13,
   "metadata": {},
   "outputs": [
    {
     "name": "stdout",
     "output_type": "stream",
     "text": [
      "3.0391402294771555e-08\n",
      "5.454894060452631e-08\n",
      "6.914569309235396e-08\n",
      "4.274701154272087e-08\n"
     ]
    }
   ],
   "source": [
    "#Examine the effect of errors in variances\n",
    "for k in k_list:\n",
    "    CEL = 0\n",
    "    n = 0\n",
    "    while n < iter_num:\n",
    "        try:\n",
    "            z = np.random.normal(size = N**2)*k + 1\n",
    "            var = np.diag(cov)\n",
    "            upper = np.triu(cov)\n",
    "            cov_new = np.multiply(upper.reshape(-1), z).reshape((N,N))\n",
    "            cov_new += cov_new.T\n",
    "            cov_new = cov_new - np.diag(np.diag(cov_new)) + np.diag(var)\n",
    "    \n",
    "            m = Model(\"Variance Sensitivity\")\n",
    "            w = pd.Series(m.addVars(stocks, lb = 0, ub = GRB.INFINITY), index=stocks)\n",
    "            m.update()\n",
    "\n",
    "            #Set Objective Function\n",
    "            obj = mean.dot(w) - 0.5*a*cov_new.dot(w).dot(w)\n",
    "            m.setObjective(obj,GRB.MAXIMIZE)\n",
    "            m.addConstr(w.sum() == 1, 'budget')\n",
    "            m.update()\n",
    "        \n",
    "            m.setParam('OutputFlag', 0)\n",
    "            m.optimize()\n",
    "        \n",
    "            w = np.array([w[i].x for i in range(len(w))])\n",
    "            CE_x = np.dot(mean,w)- 0.5*a*np.dot(np.dot(w.T, cov), w)\n",
    "            CEL += (1 - CE_x/CE_0)\n",
    "            n += 1\n",
    "        except GurobiError:\n",
    "            continue\n",
    "            \n",
    "    CEL /= iter_num\n",
    "    print(CEL)"
   ]
  },
  {
   "cell_type": "code",
   "execution_count": null,
   "metadata": {},
   "outputs": [],
   "source": []
  }
 ],
 "metadata": {
  "kernelspec": {
   "display_name": "Python 3",
   "language": "python",
   "name": "python3"
  },
  "language_info": {
   "codemirror_mode": {
    "name": "ipython",
    "version": 3
   },
   "file_extension": ".py",
   "mimetype": "text/x-python",
   "name": "python",
   "nbconvert_exporter": "python",
   "pygments_lexer": "ipython3",
   "version": "3.7.3"
  }
 },
 "nbformat": 4,
 "nbformat_minor": 2
}
