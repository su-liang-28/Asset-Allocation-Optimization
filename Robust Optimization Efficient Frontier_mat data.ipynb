{
 "cells": [
  {
   "cell_type": "code",
   "execution_count": 1,
   "metadata": {},
   "outputs": [],
   "source": [
    "import numpy as np\n",
    "import pandas as pd\n",
    "import scipy.io\n",
    "import matplotlib.pyplot as plt\n",
    "from cvxopt import matrix, solvers\n",
    "solvers.options['show_progress'] = False\n",
    "from scipy.stats import chi2"
   ]
  },
  {
   "cell_type": "markdown",
   "metadata": {},
   "source": [
    "## Parameter Settings"
   ]
  },
  {
   "cell_type": "code",
   "execution_count": 2,
   "metadata": {},
   "outputs": [],
   "source": [
    "mat = scipy.io.loadmat('Data/hw6data.mat')"
   ]
  },
  {
   "cell_type": "code",
   "execution_count": 3,
   "metadata": {},
   "outputs": [],
   "source": [
    "cov = mat['Q']\n",
    "mu = mat['mu'].reshape(-1)\n",
    "rtn_series = mat['R']"
   ]
  },
  {
   "cell_type": "code",
   "execution_count": 4,
   "metadata": {},
   "outputs": [],
   "source": [
    "sample_mean = np.mean(rtn_series,axis = 1)\n",
    "sample_cov = np.cov(rtn_series)"
   ]
  },
  {
   "cell_type": "markdown",
   "metadata": {},
   "source": [
    "## Conduct Optimization and Draw Frontier Plot"
   ]
  },
  {
   "cell_type": "code",
   "execution_count": 11,
   "metadata": {},
   "outputs": [],
   "source": [
    "def build_frontier(true_return, true_cov, estimated_return, sigma, risk_level, eta):\n",
    "    \n",
    "    N_asset = len(true_return)\n",
    "    L = np.linalg.cholesky(true_cov)\n",
    "    \n",
    "    #Calculate true frontier\n",
    "    c = matrix((-1)*true_return)\n",
    "    A = matrix(np.array([[1.0 for i in range(N_asset)]]), tc='d')\n",
    "    b = matrix(np.array([1.0]), tc='d')\n",
    "    \n",
    "    Gl = matrix(np.diag([-1.0 for i in range(N_asset)]), tc='d')\n",
    "    hl = matrix(np.array([0.0 for i in range(N_asset)]), tc='d')\n",
    "    Gq = [matrix(np.vstack([np.array([0.0 for i in range(N_asset)]), (-1)*L.T]))]\n",
    "    hq = [matrix(np.array([risk_level] + [0.0 for i in range(N_asset)]))]\n",
    "    \n",
    "    sol = solvers.socp(c, Gl = Gl, hl = hl, Gq = Gq, hq = hq, A = A, b = b)\n",
    "    w_true = sol['x']\n",
    "    \n",
    "    r_true = -sol['primal objective']\n",
    "    \n",
    "    #Calculate estimated Markowitz frontier\n",
    "    c = matrix((-1)*estimated_return)\n",
    "    A = matrix(np.array([[1.0 for i in range(N_asset)]]), tc='d')\n",
    "    b = matrix(np.array([1.0]), tc='d')\n",
    "    \n",
    "    Gl = matrix(np.diag([-1.0 for i in range(N_asset)]), tc='d')\n",
    "    hl = matrix(np.array([0.0 for i in range(N_asset)]), tc='d')\n",
    "    Gq = [matrix(np.vstack([np.array([0.0 for i in range(N_asset)]), (-1)*L.T]))]\n",
    "    hq = [matrix(np.array([risk_level] + [0.0 for i in range(N_asset)]))]\n",
    "    \n",
    "    sol = solvers.socp(c, Gl = Gl, hl = hl, Gq = Gq, hq = hq, A = A, b = b)\n",
    "    w_estimated = sol['x']\n",
    "    \n",
    "    r_estimated = -sol['primal objective']\n",
    "    \n",
    "    #Calculate Actual Markowitz frontier\n",
    "    r_actual = np.dot(true_return, w_estimated)[0]\n",
    "    \n",
    "    #Calculate Estimated Robust frontier\n",
    "    kappa = np.sqrt(chi2.ppf(eta, df = N_asset))\n",
    "    P = np.linalg.cholesky(sigma)\n",
    "    \n",
    "    c = matrix(np.append((-1)*estimated_return, [kappa]))\n",
    "    A = matrix(np.array([[1.0 for i in range(N_asset)] + [0.0]]), tc='d')\n",
    "    b = matrix(np.array([1.0]), tc='d')\n",
    "    \n",
    "    Gl = matrix(np.diag([-1.0 for i in range(N_asset+1)]), tc='d')\n",
    "    hl = matrix(np.array([0.0 for i in range(N_asset+1)]), tc='d')\n",
    "    G_0 = np.hstack([(-1)*L.T, np.array([[0.0] for i in range(N_asset)])])\n",
    "    G_0 = np.vstack([np.array([0.0 for i in range(N_asset+1)]), G_0])\n",
    "    Gq = [matrix(G_0)]\n",
    "    hq = [matrix(np.array([risk_level] + [0.0 for i in range(N_asset)]))]\n",
    "    G_1 = np.hstack([(-1)*P.T, np.array([[0.0] for i in range(N_asset)])])\n",
    "    G_1 = np.vstack([np.array([0.0 for i in range(N_asset)] + [-1.0]), G_1])\n",
    "    Gq += [matrix(G_1)]\n",
    "    hq += [matrix(np.array([0.0 for i in range(N_asset+1)]))]\n",
    "    \n",
    "    sol = solvers.socp(c, Gl = Gl, hl = hl, Gq = Gq, hq = hq, A = A, b = b)\n",
    "    w_estimated_robust = sol['x'][:-1]\n",
    "    \n",
    "    r_estimated_robust= np.dot(estimated_return, w_estimated_robust)[0]\n",
    "    \n",
    "    #Calculate Actual Markowitz frontier\n",
    "    r_actual_robust = np.dot(true_return, w_estimated_robust)[0]\n",
    "    \n",
    "    return (w_true, w_estimated, w_estimated_robust, \n",
    "            r_true, r_estimated, r_actual, r_estimated_robust, r_actual_robust)"
   ]
  },
  {
   "cell_type": "code",
   "execution_count": 16,
   "metadata": {},
   "outputs": [],
   "source": [
    "risk_levels = np.arange(0.05, 0.4, 0.002)\n",
    "frontier = pd.DataFrame(data = None, index = [risk for risk in risk_levels],\n",
    "                        columns = ['true frontier', 'estimated frontier', 'actual frontier',\n",
    "                                   'estimated robust frontier', 'actual robust frontier'])\n",
    "\n",
    "for risk in risk_levels:\n",
    "    results = build_frontier(true_return = mu, true_cov = cov, estimated_return = sample_mean, \n",
    "             sigma = np.diag(np.diag(cov/len(rtn_series[0]))), risk_level = risk, eta = 0.99)\n",
    "    frontier.loc[risk] = [results[i] for i in range(3,8)]"
   ]
  },
  {
   "cell_type": "code",
   "execution_count": 17,
   "metadata": {},
   "outputs": [
    {
     "data": {
      "text/plain": [
       "<matplotlib.axes._subplots.AxesSubplot at 0x4ad765e898>"
      ]
     },
     "execution_count": 17,
     "metadata": {},
     "output_type": "execute_result"
    },
    {
     "data": {
      "image/png": "[encoded data removed]",
      "text/plain": [
       "<Figure size 432x288 with 1 Axes>"
      ]
     },
     "metadata": {
      "needs_background": "light"
     },
     "output_type": "display_data"
    }
   ],
   "source": [
    "frontier.plot()"
   ]
  },
  {
   "cell_type": "code",
   "execution_count": null,
   "metadata": {},
   "outputs": [],
   "source": []
  }
 ],
 "metadata": {
  "kernelspec": {
   "display_name": "Python 3",
   "language": "python",
   "name": "python3"
  },
  "language_info": {
   "codemirror_mode": {
    "name": "ipython",
    "version": 3
   },
   "file_extension": ".py",
   "mimetype": "text/x-python",
   "name": "python",
   "nbconvert_exporter": "python",
   "pygments_lexer": "ipython3",
   "version": "3.7.3"
  }
 },
 "nbformat": 4,
 "nbformat_minor": 2
}
