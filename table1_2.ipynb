{
 "cells": [
  {
   "cell_type": "code",
   "execution_count": 92,
   "metadata": {
    "colab": {},
    "colab_type": "code",
    "id": "0m83dnBYKGY2"
   },
   "outputs": [],
   "source": [
    "import numpy as np\n",
    "import pandas as pd\n",
    "from cvxopt import matrix, solvers\n",
    "import matplotlib.pyplot as plt\n",
    "from cvxopt.blas import dot \n",
    "import math"
   ]
  },
  {
   "cell_type": "code",
   "execution_count": null,
   "metadata": {},
   "outputs": [],
   "source": []
  },
  {
   "cell_type": "code",
   "execution_count": 96,
   "metadata": {
    "colab": {
     "base_uri": "https://localhost:8080/",
     "height": 357
    },
    "colab_type": "code",
    "id": "pX1wg8NdKGZN",
    "outputId": "99b02432-730c-450a-ffd3-4992c261e79f"
   },
   "outputs": [
    {
     "data": {
      "text/plain": [
       "array([[1.764e-05, 9.702e-06],\n",
       "       [9.702e-06, 1.089e-05]])"
      ]
     },
     "execution_count": 96,
     "metadata": {},
     "output_type": "execute_result"
    }
   ],
   "source": [
    "std = np.array([0.0042, 0.0033])\n",
    "corr = np.array([[1,0.7],[0.7,1]])\n",
    "\n",
    "n = len(mean)\n",
    "cov = np.zeros((n, n))\n",
    "for i in range(n):\n",
    "    for j in range(n):\n",
    "        cov[i][j] = corr[i][j]*std[i]*std[j]\n",
    "cov"
   ]
  },
  {
   "cell_type": "code",
   "execution_count": 157,
   "metadata": {
    "colab": {
     "base_uri": "https://localhost:8080/",
     "height": 204
    },
    "colab_type": "code",
    "id": "grlFlbKvKGZd",
    "outputId": "995d04ce-233a-4cff-9725-3453463494fe"
   },
   "outputs": [
    {
     "name": "stdout",
     "output_type": "stream",
     "text": [
      "[ 6.44e-07]\n",
      "[ 1.00e+00]\n",
      "\n"
     ]
    },
    {
     "data": {
      "text/plain": [
       "<matplotlib.lines.Line2D at 0x11465e610>"
      ]
     },
     "execution_count": 157,
     "metadata": {},
     "output_type": "execute_result"
    },
    {
     "data": {
      "image/png": "[encoded data removed]",
      "text/plain": [
       "<Figure size 432x288 with 1 Axes>"
      ]
     },
     "metadata": {
      "needs_background": "light"
     },
     "output_type": "display_data"
    }
   ],
   "source": [
    "# Portfolio A\n",
    "mean = np.array([0.024, 0.025])\n",
    "t = 50\n",
    "a = 2/t  \n",
    "\n",
    "P = matrix(a*cov)\n",
    "q = matrix(-mean)\n",
    "G = matrix(np.diag([-1.0 for i in range(n)]))\n",
    "h = matrix(np.array([0.0 for i in range(n)]))\n",
    "A = matrix(np.array([[1.0 for i in range(n)]]))\n",
    "b = matrix(np.array([1.0]))\n",
    "\n",
    "sol = solvers.qp(P,q,G,h,A,b)\n",
    "solvers.options['show_progress'] = False\n",
    "w = sol['x']\n",
    "CE_0 = np.dot(mean,w)[0] - 0.5*a*np.dot(np.dot(w.T, cov), w)[0][0]\n",
    "print(w)\n",
    "\n",
    "N = 100\n",
    "S = matrix(cov)\n",
    "mus = [10**(5.0*t/N-1.0) for t in range(N)]\n",
    "solvers.options['show_progress'] = False\n",
    "xs = [solvers.qp(mu*S, q, G, h, A, b)['x'] for mu in mus]\n",
    "returns = [dot(-q,x) for x in xs ]\n",
    "risks = [math.sqrt(dot(x, S*x)) for x in xs]\n",
    "\n",
    "\n",
    "# #Efficient frontier\n",
    "plt.plot(risks, returns)\n",
    "plt.axhline(y=0.024831, color='r')\n",
    "plt.axhline(y=0.0246986, color='g')"
   ]
  },
  {
   "cell_type": "code",
   "execution_count": null,
   "metadata": {},
   "outputs": [],
   "source": []
  },
  {
   "cell_type": "code",
   "execution_count": 158,
   "metadata": {},
   "outputs": [
    {
     "name": "stdout",
     "output_type": "stream",
     "text": [
      "[ 8.31e-01]\n",
      "[ 1.69e-01]\n",
      "\n"
     ]
    },
    {
     "data": {
      "text/plain": [
       "<matplotlib.lines.Line2D at 0x1146cfa10>"
      ]
     },
     "execution_count": 158,
     "metadata": {},
     "output_type": "execute_result"
    },
    {
     "data": {
      "image/png": "[encoded data removed]",
      "text/plain": [
       "<Figure size 432x288 with 1 Axes>"
      ]
     },
     "metadata": {
      "needs_background": "light"
     },
     "output_type": "display_data"
    }
   ],
   "source": [
    "# Portfolio B\n",
    "mean = np.array([0.025, 0.024])\n",
    "t = 0.0128\n",
    "a = 2/t  \n",
    "\n",
    "P = matrix(a*cov)\n",
    "q = matrix(-mean)\n",
    "G = matrix(np.diag([-1.0 for i in range(n)]), tc='d')\n",
    "h = matrix(np.array([0.0 for i in range(n)]), tc='d')\n",
    "A = matrix(np.array([[1.0 for i in range(n)]]), tc='d')\n",
    "b = matrix(np.array([1.0]), tc='d')\n",
    "\n",
    "sol = solvers.qp(P,q,G,h,A,b)\n",
    "solvers.options['show_progress'] = False\n",
    "w = sol['x']\n",
    "CE_0 = np.dot(mean,w)[0] - 0.5*a*np.dot(np.dot(w.T, cov), w)[0][0]\n",
    "print(w)\n",
    "\n",
    "N = 100\n",
    "S = matrix(cov)\n",
    "mus = [10**(5.0*t/N-1.0) for t in range(N)]\n",
    "solvers.options['show_progress'] = False\n",
    "xs = [solvers.qp(mu*S, q, G, h, A, b)['x'] for mu in mus]\n",
    "returns = [dot(-q,x) for x in xs ]\n",
    "risks = [math.sqrt(dot(x, S*x)) for x in xs]\n",
    "\n",
    "# for x in xs:\n",
    "#     print (x)\n",
    "\n",
    "#Efficient frontier\n",
    "plt.plot(risks, returns)\n",
    "plt.axhline(y=0.024831, color='r')\n",
    "plt.axhline(y=0.0246986, color='g')"
   ]
  },
  {
   "cell_type": "code",
   "execution_count": null,
   "metadata": {},
   "outputs": [],
   "source": []
  },
  {
   "cell_type": "code",
   "execution_count": 170,
   "metadata": {},
   "outputs": [
    {
     "name": "stdout",
     "output_type": "stream",
     "text": [
      "[ 9.60e+01]\n",
      "[ 1.06e+03]\n",
      "\n"
     ]
    }
   ],
   "source": [
    "# Portfolio C\n",
    "mean = np.array([0.024, 0.025])\n",
    "t = 1\n",
    "a = 2/t  \n",
    "\n",
    "P = matrix(a*cov)\n",
    "q = matrix(-mean)\n",
    "G = matrix(np.diag([-1.0 for i in range(n)]), tc='d')\n",
    "h = matrix(np.array([0.0 for i in range(n)]), tc='d')\n",
    "# A = matrix(np.array([[1.0 for i in range(n)]]), tc='d')\n",
    "# b = matrix(np.array([1.0]), tc='d')\n",
    "\n",
    "sol = solvers.qp(P,q,G,h)\n",
    "solvers.options['show_progress'] = False\n",
    "w = sol['x']\n",
    "CE_0 = np.dot(mean,w)[0] - 0.5*a*np.dot(np.dot(w.T, cov), w)[0][0]\n",
    "print(w)"
   ]
  },
  {
   "cell_type": "code",
   "execution_count": null,
   "metadata": {},
   "outputs": [],
   "source": []
  },
  {
   "cell_type": "code",
   "execution_count": 169,
   "metadata": {},
   "outputs": [
    {
     "name": "stdout",
     "output_type": "stream",
     "text": [
      "[ 2.01e+02]\n",
      "[ 9.23e+02]\n",
      "\n"
     ]
    }
   ],
   "source": [
    "# Portfolio D\n",
    "mean = np.array([0.025, 0.024])\n",
    "t = 1\n",
    "a = 2/t  \n",
    "\n",
    "P = matrix(a*cov)\n",
    "q = matrix(-mean)\n",
    "G = matrix(np.diag([-1.0 for i in range(n)]), tc='d')\n",
    "h = matrix(np.array([0.0 for i in range(n)]), tc='d')\n",
    "# A = matrix(np.array([[1.0 for i in range(n)]]), tc='d')\n",
    "# b = matrix(np.array([100.0]), tc='d')\n",
    "\n",
    "sol = solvers.qp(P,q,G,h)\n",
    "solvers.options['show_progress'] = False\n",
    "w = sol['x']\n",
    "CE_0 = np.dot(mean,w)[0] - 0.5*a*np.dot(np.dot(w.T, cov), w)[0][0]\n",
    "print(w)"
   ]
  },
  {
   "cell_type": "code",
   "execution_count": null,
   "metadata": {},
   "outputs": [],
   "source": []
  }
 ],
 "metadata": {
  "accelerator": "GPU",
  "colab": {
   "name": " Cvxopt.ipynb",
   "provenance": []
  },
  "kernelspec": {
   "display_name": "Python 3",
   "language": "python",
   "name": "python3"
  },
  "language_info": {
   "codemirror_mode": {
    "name": "ipython",
    "version": 3
   },
   "file_extension": ".py",
   "mimetype": "text/x-python",
   "name": "python",
   "nbconvert_exporter": "python",
   "pygments_lexer": "ipython3",
   "version": "3.7.4"
  }
 },
 "nbformat": 4,
 "nbformat_minor": 1
}
